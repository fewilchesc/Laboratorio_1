{
 "cells": [
  {
   "cell_type": "code",
   "execution_count": 39,
   "metadata": {
    "collapsed": false
   },
   "outputs": [
    {
     "name": "stdout",
     "output_type": "stream",
     "text": [
      "Numero de permutaciones: 24\n",
      "\tPermutacion: [87, 59, 32, 67]\n",
      "\tPermutacion: [87, 59, 67, 32]\n",
      "\tPermutacion: [87, 32, 59, 67]\n",
      "\tPermutacion: [87, 32, 67, 59]\n",
      "\tPermutacion: [87, 67, 59, 32]\n",
      "\tPermutacion: [87, 67, 32, 59]\n",
      "\tPermutacion: [59, 87, 32, 67]\n",
      "\tPermutacion: [59, 87, 67, 32]\n",
      "\tPermutacion: [59, 32, 87, 67]\n",
      "\tPermutacion: [59, 32, 67, 87]\n",
      "\tPermutacion: [59, 67, 87, 32]\n",
      "\tPermutacion: [59, 67, 32, 87]\n",
      "\tPermutacion: [32, 87, 59, 67]\n",
      "\tPermutacion: [32, 87, 67, 59]\n",
      "\tPermutacion: [32, 59, 87, 67]\n",
      "\tPermutacion: [32, 59, 67, 87]\n",
      "\tPermutacion: [32, 67, 87, 59]\n",
      "\tPermutacion: [32, 67, 59, 87]\n",
      "\tPermutacion: [67, 87, 59, 32]\n",
      "\tPermutacion: [67, 87, 32, 59]\n",
      "\tPermutacion: [67, 59, 87, 32]\n",
      "\tPermutacion: [67, 59, 32, 87]\n",
      "\tPermutacion: [67, 32, 87, 59]\n",
      "\tPermutacion: [67, 32, 59, 87]\n",
      "Numero promedio de comparaciones: 6\n",
      "Numero promedio de intercambios: 3\n"
     ]
    }
   ],
   "source": [
    "from itertools import permutations\n",
    "import random\n",
    "#Inicialización\n",
    "n=4\n",
    "numeroDeComparaciones=0\n",
    "numeroDeIntercambios=0\n",
    "listaAleatoria=[]\n",
    "\n",
    "#Creando lista de numeros aleatorios\n",
    "for i in range(n):\n",
    "    listaAleatoria.append(int(random.random()*100))\n",
    "listaPermutaciones = list(permutations(listaAleatoria))\n",
    "print(\"Numero de permutaciones: \"+str(len(listaPermutaciones)))\n",
    "#Para cada permutación se hace insertionSort\n",
    "for i in range(len(listaPermutaciones)):\n",
    "    listaAux=list(listaPermutaciones[i])\n",
    "    j = 1\n",
    "    print(\"\\tPermutacion: \"+str(listaAux))\n",
    "    #InsertionSort\n",
    "    while j < len(listaAux):\n",
    "        key = listaAux[j]\n",
    "        i = j - 1\n",
    "        while (i >= 0) and (listaAux[i] > key):\n",
    "            #Contando comparaciones e intercambios\n",
    "            if(listaAux[i] > key):\n",
    "                numeroDeComparaciones+=1\n",
    "                numeroDeIntercambios+=1\n",
    "            \n",
    "            listaAux[i + 1] = listaAux[i]\n",
    "            i = i -1\n",
    "            \n",
    "        #Contar la comparacion para salir del while\n",
    "        numeroDeComparaciones+=1\n",
    "        \n",
    "        listaAux[i + 1] = key\n",
    "        j = j + 1\n",
    "print(\"Numero promedio de comparaciones: \"+str(numeroDeComparaciones/len(listaPermutaciones)))\n",
    "print(\"Numero promedio de intercambios: \"+str(numeroDeIntercambios/len(listaPermutaciones)))\n"
   ]
  },
  {
   "cell_type": "code",
   "execution_count": null,
   "metadata": {
    "collapsed": true
   },
   "outputs": [],
   "source": []
  },
  {
   "cell_type": "code",
   "execution_count": null,
   "metadata": {
    "collapsed": true
   },
   "outputs": [],
   "source": []
  },
  {
   "cell_type": "code",
   "execution_count": null,
   "metadata": {
    "collapsed": true
   },
   "outputs": [],
   "source": []
  }
 ],
 "metadata": {
  "kernelspec": {
   "display_name": "Python 2",
   "language": "python",
   "name": "python2"
  },
  "language_info": {
   "codemirror_mode": {
    "name": "ipython",
    "version": 2
   },
   "file_extension": ".py",
   "mimetype": "text/x-python",
   "name": "python",
   "nbconvert_exporter": "python",
   "pygments_lexer": "ipython2",
   "version": "2.7.12"
  }
 },
 "nbformat": 4,
 "nbformat_minor": 2
}